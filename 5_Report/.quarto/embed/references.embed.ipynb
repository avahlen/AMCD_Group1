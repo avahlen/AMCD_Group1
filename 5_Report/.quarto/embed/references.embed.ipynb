{
 "cells": [
  {
   "cell_type": "markdown",
   "metadata": {},
   "source": [
    "# \n",
    "\n",
    "# Literaturverzeichnis"
   ],
   "id": "b98d8742-b420-4ed9-a3ee-aaa722476ff4"
  }
 ],
 "nbformat": 4,
 "nbformat_minor": 5,
 "metadata": {}
}
