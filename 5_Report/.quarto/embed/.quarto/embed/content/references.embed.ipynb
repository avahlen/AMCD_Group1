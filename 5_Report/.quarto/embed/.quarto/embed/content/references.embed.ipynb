{
 "cells": [
  {
   "cell_type": "markdown",
   "metadata": {},
   "source": [
    "# \n",
    "\n",
    "# References"
   ],
   "id": "a3489039-b331-4b20-8de9-59f09d86b90c"
  }
 ],
 "nbformat": 4,
 "nbformat_minor": 5,
 "metadata": {}
}
