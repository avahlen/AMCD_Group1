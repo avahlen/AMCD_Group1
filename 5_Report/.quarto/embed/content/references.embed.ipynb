{
 "cells": [
  {
   "cell_type": "markdown",
   "metadata": {},
   "source": [
    "# \n",
    "\n",
    "# Literaturverzeichnis"
   ],
   "id": "c0d01be7-b3b9-4696-bdd6-1ea3cea24107"
  }
 ],
 "nbformat": 4,
 "nbformat_minor": 5,
 "metadata": {}
}
